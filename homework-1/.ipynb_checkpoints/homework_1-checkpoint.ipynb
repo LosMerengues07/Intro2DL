{
 "cells": [
  {
   "cell_type": "markdown",
   "metadata": {},
   "source": [
    "# Homework-1: Softmax for MNIST Classification\n",
    "\n",
    "### **Deadline: 2018.10.21 23:30:00**\n",
    "\n",
    "### In this homework, you need to\n",
    "- ### implement and apply a softmax classifier to perform digits classification."
   ]
  },
  {
   "cell_type": "code",
   "execution_count": 1,
   "metadata": {},
   "outputs": [],
   "source": [
    "import os,sys\n",
    "import numpy as np\n",
    "import matplotlib.pyplot as plt\n",
    "%matplotlib inline"
   ]
  },
  {
   "cell_type": "markdown",
   "metadata": {},
   "source": [
    "## Load MNIST Dataset\n",
    "The **mnist_data_loader.py** is a script to load mnist dataset, which is included in [TensorFlow tutorial](https://github.com/tensorflow/tensorflow/blob/r0.7/tensorflow/examples/tutorials/mnist/input_data.py)."
   ]
  },
  {
   "cell_type": "code",
   "execution_count": 2,
   "metadata": {},
   "outputs": [
    {
     "name": "stdout",
     "output_type": "stream",
     "text": [
      "Extracting ./MNIST_data/train-images-idx3-ubyte.gz\n",
      "Extracting ./MNIST_data/train-labels-idx1-ubyte.gz\n",
      "Extracting ./MNIST_data/t10k-images-idx3-ubyte.gz\n",
      "Extracting ./MNIST_data/t10k-labels-idx1-ubyte.gz\n",
      "\n",
      "Training dataset size:  60000\n",
      "Test dataset size:  10000\n"
     ]
    }
   ],
   "source": [
    "import mnist_data_loader\n",
    "\n",
    "mnist_dataset = mnist_data_loader.read_data_sets(\"./MNIST_data/\", one_hot=True)\n",
    "\n",
    "# training dataset\n",
    "train_set = mnist_dataset.train \n",
    "# test dataset\n",
    "test_set = mnist_dataset.test   \n",
    "\n",
    "train_size = train_set.num_examples\n",
    "test_size = test_set.num_examples\n",
    "print()\n",
    "print('Training dataset size: ', train_size)\n",
    "print('Test dataset size: ', test_size)"
   ]
  },
  {
   "cell_type": "markdown",
   "metadata": {},
   "source": [
    "## Data Example\n",
    "To have a better understand of MNIST dataset, we can visualize some examples in MNIST."
   ]
  },
  {
   "cell_type": "code",
   "execution_count": 3,
   "metadata": {},
   "outputs": [
    {
     "name": "stdout",
     "output_type": "stream",
     "text": [
      "[0. 0. 0. 0. 0. 1. 0. 0. 0. 0.]\n"
     ]
    },
    {
     "data": {
      "text/plain": [
       "<matplotlib.image.AxesImage at 0x7f6012d937f0>"
      ]
     },
     "execution_count": 3,
     "metadata": {},
     "output_type": "execute_result"
    },
    {
     "data": {
      "image/png": "[encoded data removed]",
      "text/plain": [
       "<Figure size 432x288 with 1 Axes>"
      ]
     },
     "metadata": {
      "needs_background": "light"
     },
     "output_type": "display_data"
    }
   ],
   "source": [
    "# You can choose any image in training set to visualize, example_id ∈ [0,60000)\n",
    "example_id = 0 \n",
    "\n",
    "image = train_set.images[example_id] # shape = 784 (28*28)\n",
    "label = train_set.labels[example_id] # shape = 10\n",
    "print(label)\n",
    "plt.imshow(np.reshape(image,[28,28]))\n"
   ]
  },
  {
   "cell_type": "markdown",
   "metadata": {},
   "source": [
    "## Set Hyerparameters\n",
    "You can modify hyerparameters by yourself."
   ]
  },
  {
   "cell_type": "code",
   "execution_count": 4,
   "metadata": {},
   "outputs": [],
   "source": [
    "batch_size = 100\n",
    "max_epoch = 10\n",
    "learning_rate = 0.01\n",
    "\n",
    "# For regularization\n",
    "lamda = 0.5"
   ]
  },
  {
   "cell_type": "markdown",
   "metadata": {},
   "source": [
    "### TODO\n",
    "Before executing the following code, you should accomplish **./softmax_classifier.py**."
   ]
  },
  {
   "cell_type": "code",
   "execution_count": 7,
   "metadata": {},
   "outputs": [],
   "source": [
    "from softmax_classifier import softmax_classifier"
   ]
  },
  {
   "cell_type": "markdown",
   "metadata": {},
   "source": [
    "## Train"
   ]
  },
  {
   "cell_type": "code",
   "execution_count": 8,
   "metadata": {
    "scrolled": true
   },
   "outputs": [
    {
     "name": "stdout",
     "output_type": "stream",
     "text": [
      "Epoch [0][10]\t Batch [0][600]\t Training Loss 0.0002\t Accuracy 0.1500\n",
      "Epoch [0][10]\t Batch [100][600]\t Training Loss 1.8252\t Accuracy 0.8600\n",
      "Epoch [0][10]\t Batch [200][600]\t Training Loss 1.8080\t Accuracy 0.7600\n",
      "Epoch [0][10]\t Batch [300][600]\t Training Loss 1.6553\t Accuracy 0.8600\n",
      "Epoch [0][10]\t Batch [400][600]\t Training Loss 1.8328\t Accuracy 0.8200\n",
      "Epoch [0][10]\t Batch [500][600]\t Training Loss 1.8207\t Accuracy 0.7900\n",
      "\n",
      "Epoch [1][10]\t Batch [0][600]\t Training Loss 1.7353\t Accuracy 0.8500\n",
      "Epoch [1][10]\t Batch [100][600]\t Training Loss 1.8786\t Accuracy 0.7700\n",
      "Epoch [1][10]\t Batch [200][600]\t Training Loss 1.8621\t Accuracy 0.7900\n",
      "Epoch [1][10]\t Batch [300][600]\t Training Loss 1.7742\t Accuracy 0.8500\n",
      "Epoch [1][10]\t Batch [400][600]\t Training Loss 1.8725\t Accuracy 0.8300\n",
      "Epoch [1][10]\t Batch [500][600]\t Training Loss 1.7434\t Accuracy 0.8000\n",
      "\n",
      "Epoch [2][10]\t Batch [0][600]\t Training Loss 1.7063\t Accuracy 0.8100\n",
      "Epoch [2][10]\t Batch [100][600]\t Training Loss 1.7750\t Accuracy 0.8500\n",
      "Epoch [2][10]\t Batch [200][600]\t Training Loss 1.7423\t Accuracy 0.8400\n",
      "Epoch [2][10]\t Batch [300][600]\t Training Loss 1.7855\t Accuracy 0.8300\n",
      "Epoch [2][10]\t Batch [400][600]\t Training Loss 1.6872\t Accuracy 0.8400\n",
      "Epoch [2][10]\t Batch [500][600]\t Training Loss 1.8573\t Accuracy 0.7200\n",
      "\n",
      "Epoch [3][10]\t Batch [0][600]\t Training Loss 1.8483\t Accuracy 0.7600\n",
      "Epoch [3][10]\t Batch [100][600]\t Training Loss 1.8240\t Accuracy 0.8400\n",
      "Epoch [3][10]\t Batch [200][600]\t Training Loss 1.7719\t Accuracy 0.8400\n",
      "Epoch [3][10]\t Batch [300][600]\t Training Loss 1.7829\t Accuracy 0.8600\n",
      "Epoch [3][10]\t Batch [400][600]\t Training Loss 1.8496\t Accuracy 0.7700\n",
      "Epoch [3][10]\t Batch [500][600]\t Training Loss 1.7256\t Accuracy 0.7900\n",
      "\n",
      "Epoch [4][10]\t Batch [0][600]\t Training Loss 1.7144\t Accuracy 0.8900\n",
      "Epoch [4][10]\t Batch [100][600]\t Training Loss 1.8308\t Accuracy 0.7800\n",
      "Epoch [4][10]\t Batch [200][600]\t Training Loss 1.7879\t Accuracy 0.7900\n",
      "Epoch [4][10]\t Batch [300][600]\t Training Loss 1.6562\t Accuracy 0.8700\n",
      "Epoch [4][10]\t Batch [400][600]\t Training Loss 1.7541\t Accuracy 0.8200\n",
      "Epoch [4][10]\t Batch [500][600]\t Training Loss 1.8121\t Accuracy 0.8700\n",
      "\n",
      "Epoch [5][10]\t Batch [0][600]\t Training Loss 1.9124\t Accuracy 0.8000\n",
      "Epoch [5][10]\t Batch [100][600]\t Training Loss 1.7408\t Accuracy 0.8500\n",
      "Epoch [5][10]\t Batch [200][600]\t Training Loss 1.8010\t Accuracy 0.7800\n",
      "Epoch [5][10]\t Batch [300][600]\t Training Loss 1.7758\t Accuracy 0.7900\n",
      "Epoch [5][10]\t Batch [400][600]\t Training Loss 1.7473\t Accuracy 0.8000\n",
      "Epoch [5][10]\t Batch [500][600]\t Training Loss 1.8184\t Accuracy 0.9100\n",
      "\n",
      "Epoch [6][10]\t Batch [0][600]\t Training Loss 1.7217\t Accuracy 0.8200\n",
      "Epoch [6][10]\t Batch [100][600]\t Training Loss 1.7337\t Accuracy 0.8400\n",
      "Epoch [6][10]\t Batch [200][600]\t Training Loss 1.8466\t Accuracy 0.7800\n",
      "Epoch [6][10]\t Batch [300][600]\t Training Loss 1.7423\t Accuracy 0.8500\n",
      "Epoch [6][10]\t Batch [400][600]\t Training Loss 1.8527\t Accuracy 0.7700\n",
      "Epoch [6][10]\t Batch [500][600]\t Training Loss 1.7895\t Accuracy 0.7400\n",
      "\n",
      "Epoch [7][10]\t Batch [0][600]\t Training Loss 1.7760\t Accuracy 0.8300\n",
      "Epoch [7][10]\t Batch [100][600]\t Training Loss 1.8790\t Accuracy 0.8300\n",
      "Epoch [7][10]\t Batch [200][600]\t Training Loss 1.7574\t Accuracy 0.8400\n",
      "Epoch [7][10]\t Batch [300][600]\t Training Loss 1.7884\t Accuracy 0.7600\n",
      "Epoch [7][10]\t Batch [400][600]\t Training Loss 1.7949\t Accuracy 0.8600\n",
      "Epoch [7][10]\t Batch [500][600]\t Training Loss 1.7456\t Accuracy 0.8300\n",
      "\n",
      "Epoch [8][10]\t Batch [0][600]\t Training Loss 1.8675\t Accuracy 0.7300\n",
      "Epoch [8][10]\t Batch [100][600]\t Training Loss 1.8014\t Accuracy 0.7900\n",
      "Epoch [8][10]\t Batch [200][600]\t Training Loss 1.8283\t Accuracy 0.8300\n",
      "Epoch [8][10]\t Batch [300][600]\t Training Loss 1.8475\t Accuracy 0.7900\n",
      "Epoch [8][10]\t Batch [400][600]\t Training Loss 1.7925\t Accuracy 0.7900\n",
      "Epoch [8][10]\t Batch [500][600]\t Training Loss 1.8673\t Accuracy 0.7600\n",
      "\n",
      "Epoch [9][10]\t Batch [0][600]\t Training Loss 1.7817\t Accuracy 0.8600\n",
      "Epoch [9][10]\t Batch [100][600]\t Training Loss 1.7363\t Accuracy 0.8300\n",
      "Epoch [9][10]\t Batch [200][600]\t Training Loss 1.7438\t Accuracy 0.8600\n",
      "Epoch [9][10]\t Batch [300][600]\t Training Loss 1.8177\t Accuracy 0.8200\n",
      "Epoch [9][10]\t Batch [400][600]\t Training Loss 1.7458\t Accuracy 0.7800\n",
      "Epoch [9][10]\t Batch [500][600]\t Training Loss 1.9146\t Accuracy 0.7700\n",
      "\n"
     ]
    }
   ],
   "source": [
    "# Weight Initialization\n",
    "W = np.random.randn(28*28, 10) * 0.001\n",
    "\n",
    "loss_set = []\n",
    "accu_set = []\n",
    "disp_freq = 100\n",
    "\n",
    "# Training process\n",
    "for epoch in range(0, max_epoch):\n",
    "    iter_per_batch = train_size // batch_size\n",
    "    for batch_id in range(0, iter_per_batch):\n",
    "        batch = train_set.next_batch(batch_size) # get data of next batch\n",
    "        input, label = batch\n",
    "        \n",
    "        # softmax_classifier\n",
    "        loss, gradient, prediction = softmax_classifier(W, input , label, lamda)\n",
    "        \n",
    "        # Calculate accuracy\n",
    "        label = np.argmax(label, axis=1) # scalar representation\n",
    "        accuracy = sum(prediction == label) / float(len(label))\n",
    "        \n",
    "        loss_set.append(loss)\n",
    "        accu_set.append(accuracy)\n",
    "        \n",
    "        # Update weights\n",
    "        W = W - (learning_rate * gradient)\n",
    "        if batch_id % disp_freq == 0:\n",
    "            print(\"Epoch [{}][{}]\\t Batch [{}][{}]\\t Training Loss {:.4f}\\t Accuracy {:.4f}\".format(\n",
    "                epoch, max_epoch, batch_id, iter_per_batch, \n",
    "                loss, accuracy))\n",
    "    print()"
   ]
  },
  {
   "cell_type": "markdown",
   "metadata": {},
   "source": [
    "## Test"
   ]
  },
  {
   "cell_type": "code",
   "execution_count": 9,
   "metadata": {
    "scrolled": true
   },
   "outputs": [
    {
     "name": "stdout",
     "output_type": "stream",
     "text": [
      "Test Accuracy:  0.8322\n"
     ]
    }
   ],
   "source": [
    "correct = 0\n",
    "iter_per_batch = test_size // batch_size\n",
    "\n",
    "# Test process\n",
    "for batch_id in range(0, iter_per_batch):\n",
    "    batch = test_set.next_batch(batch_size)\n",
    "    data, label = batch\n",
    "    \n",
    "    # We only need prediction results in testing\n",
    "    _,_, prediction = softmax_classifier(W, data , label, lamda)\n",
    "    label = np.argmax(label, axis=1)\n",
    "    \n",
    "    correct += sum(prediction == label)\n",
    "    \n",
    "accuracy = correct * 1.0 / test_size\n",
    "print('Test Accuracy: ', accuracy)"
   ]
  },
  {
   "cell_type": "markdown",
   "metadata": {},
   "source": [
    "## Plot"
   ]
  },
  {
   "cell_type": "code",
   "execution_count": 10,
   "metadata": {
    "scrolled": false
   },
   "outputs": [
    {
     "data": {
      "text/plain": [
       "Text(0,0.5,'accuracy')"
      ]
     },
     "execution_count": 10,
     "metadata": {},
     "output_type": "execute_result"
    },
    {
     "data": {
      "image/png": "[encoded data removed]",
      "text/plain": [
       "<Figure size 432x288 with 1 Axes>"
      ]
     },
     "metadata": {
      "needs_background": "light"
     },
     "output_type": "display_data"
    },
    {
     "data": {
      "image/png": "[encoded data removed]",
      "text/plain": [
       "<Figure size 432x288 with 1 Axes>"
      ]
     },
     "metadata": {
      "needs_background": "light"
     },
     "output_type": "display_data"
    }
   ],
   "source": [
    "# training loss curve\n",
    "plt.figure()\n",
    "plt.plot(loss_set, 'b--')\n",
    "plt.xlabel('iteration')\n",
    "plt.ylabel('loss')\n",
    "# training accuracy curve\n",
    "plt.figure()\n",
    "plt.plot(accu_set, 'r--')\n",
    "plt.xlabel('iteration')\n",
    "plt.ylabel('accuracy')"
   ]
  },
  {
   "cell_type": "markdown",
   "metadata": {},
   "source": [
    "### You have finished homework-1, congratulations!"
   ]
  }
 ],
 "metadata": {
  "kernelspec": {
   "display_name": "Python [default]",
   "language": "python",
   "name": "python3"
  },
  "language_info": {
   "codemirror_mode": {
    "name": "ipython",
    "version": 3
   },
   "file_extension": ".py",
   "mimetype": "text/x-python",
   "name": "python",
   "nbconvert_exporter": "python",
   "pygments_lexer": "ipython3",
   "version": "3.6.6"
  }
 },
 "nbformat": 4,
 "nbformat_minor": 2
}
