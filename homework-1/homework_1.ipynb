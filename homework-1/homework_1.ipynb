{
 "cells": [
  {
   "cell_type": "markdown",
   "metadata": {},
   "source": [
    "# Homework-1: Softmax for MNIST Classification\n",
    "\n",
    "### **Deadline: 2018.10.21 23:30:00**\n",
    "\n",
    "### In this homework, you need to\n",
    "- ### implement and apply a softmax classifier to perform digits classification."
   ]
  },
  {
   "cell_type": "code",
   "execution_count": 14,
   "metadata": {},
   "outputs": [],
   "source": [
    "import os,sys\n",
    "import numpy as np\n",
    "import matplotlib.pyplot as plt\n",
    "%matplotlib inline"
   ]
  },
  {
   "cell_type": "markdown",
   "metadata": {},
   "source": [
    "## Load MNIST Dataset\n",
    "The **mnist_data_loader.py** is a script to load mnist dataset, which is included in [TensorFlow tutorial](https://github.com/tensorflow/tensorflow/blob/r0.7/tensorflow/examples/tutorials/mnist/input_data.py)."
   ]
  },
  {
   "cell_type": "code",
   "execution_count": 15,
   "metadata": {},
   "outputs": [
    {
     "name": "stdout",
     "output_type": "stream",
     "text": [
      "Extracting ./MNIST_data/train-images-idx3-ubyte.gz\n",
      "Extracting ./MNIST_data/train-labels-idx1-ubyte.gz\n",
      "Extracting ./MNIST_data/t10k-images-idx3-ubyte.gz\n",
      "Extracting ./MNIST_data/t10k-labels-idx1-ubyte.gz\n",
      "\n",
      "Training dataset size:  60000\n",
      "Test dataset size:  10000\n"
     ]
    }
   ],
   "source": [
    "import mnist_data_loader\n",
    "\n",
    "mnist_dataset = mnist_data_loader.read_data_sets(\"./MNIST_data/\", one_hot=True)\n",
    "\n",
    "# training dataset\n",
    "train_set = mnist_dataset.train \n",
    "# test dataset\n",
    "test_set = mnist_dataset.test   \n",
    "\n",
    "train_size = train_set.num_examples\n",
    "test_size = test_set.num_examples\n",
    "print()\n",
    "print('Training dataset size: ', train_size)\n",
    "print('Test dataset size: ', test_size)"
   ]
  },
  {
   "cell_type": "markdown",
   "metadata": {},
   "source": [
    "## Data Example\n",
    "To have a better understand of MNIST dataset, we can visualize some examples in MNIST."
   ]
  },
  {
   "cell_type": "code",
   "execution_count": 16,
   "metadata": {},
   "outputs": [
    {
     "name": "stdout",
     "output_type": "stream",
     "text": [
      "[0. 0. 0. 0. 1. 0. 0. 0. 0. 0.]\n"
     ]
    },
    {
     "data": {
      "text/plain": [
       "<matplotlib.image.AxesImage at 0x7ffb86d42908>"
      ]
     },
     "execution_count": 16,
     "metadata": {},
     "output_type": "execute_result"
    },
    {
     "data": {
      "image/png": "[encoded data removed]",
      "text/plain": [
       "<Figure size 432x288 with 1 Axes>"
      ]
     },
     "metadata": {
      "needs_background": "light"
     },
     "output_type": "display_data"
    }
   ],
   "source": [
    "# You can choose any image in training set to visualize, example_id ∈ [0,60000)\n",
    "example_id = 4406\n",
    "\n",
    "\n",
    "image = train_set.images[example_id] # shape = 784 (28*28)\n",
    "label = train_set.labels[example_id] # shape = 10\n",
    "print(label)\n",
    "plt.imshow(np.reshape(image,[28,28]))\n"
   ]
  },
  {
   "cell_type": "markdown",
   "metadata": {},
   "source": [
    "## Set Hyerparameters\n",
    "You can modify hyerparameters by yourself."
   ]
  },
  {
   "cell_type": "code",
   "execution_count": 17,
   "metadata": {},
   "outputs": [],
   "source": [
    "batch_size = 100\n",
    "max_epoch = 10\n",
    "learning_rate = 0.01\n",
    "\n",
    "# For regularization\n",
    "lamda = 0.2"
   ]
  },
  {
   "cell_type": "markdown",
   "metadata": {},
   "source": [
    "### TODO\n",
    "Before executing the following code, you should accomplish **./softmax_classifier.py**."
   ]
  },
  {
   "cell_type": "code",
   "execution_count": 18,
   "metadata": {},
   "outputs": [],
   "source": [
    "from softmax_classifier import softmax_classifier"
   ]
  },
  {
   "cell_type": "markdown",
   "metadata": {},
   "source": [
    "## Train"
   ]
  },
  {
   "cell_type": "code",
   "execution_count": 26,
   "metadata": {
    "scrolled": true
   },
   "outputs": [
    {
     "name": "stdout",
     "output_type": "stream",
     "text": [
      "Epoch [0][10]\t Batch [0][600]\t Training Loss 2.3035\t Accuracy 0.1100\n",
      "Epoch [0][10]\t Batch [100][600]\t Training Loss 1.6623\t Accuracy 0.7900\n",
      "Epoch [0][10]\t Batch [200][600]\t Training Loss 1.4325\t Accuracy 0.8300\n",
      "Epoch [0][10]\t Batch [300][600]\t Training Loss 1.3837\t Accuracy 0.8500\n",
      "Epoch [0][10]\t Batch [400][600]\t Training Loss 1.3377\t Accuracy 0.8000\n",
      "Epoch [0][10]\t Batch [500][600]\t Training Loss 1.3682\t Accuracy 0.8000\n",
      "\n",
      "Epoch [1][10]\t Batch [0][600]\t Training Loss 1.3098\t Accuracy 0.8700\n",
      "Epoch [1][10]\t Batch [100][600]\t Training Loss 1.2528\t Accuracy 0.8700\n",
      "Epoch [1][10]\t Batch [200][600]\t Training Loss 1.2960\t Accuracy 0.8600\n",
      "Epoch [1][10]\t Batch [300][600]\t Training Loss 1.3601\t Accuracy 0.8200\n",
      "Epoch [1][10]\t Batch [400][600]\t Training Loss 1.4043\t Accuracy 0.7900\n",
      "Epoch [1][10]\t Batch [500][600]\t Training Loss 1.4349\t Accuracy 0.7800\n",
      "\n",
      "Epoch [2][10]\t Batch [0][600]\t Training Loss 1.3525\t Accuracy 0.8000\n",
      "Epoch [2][10]\t Batch [100][600]\t Training Loss 1.3815\t Accuracy 0.8100\n",
      "Epoch [2][10]\t Batch [200][600]\t Training Loss 1.3553\t Accuracy 0.8400\n",
      "Epoch [2][10]\t Batch [300][600]\t Training Loss 1.3687\t Accuracy 0.8500\n",
      "Epoch [2][10]\t Batch [400][600]\t Training Loss 1.3319\t Accuracy 0.8500\n",
      "Epoch [2][10]\t Batch [500][600]\t Training Loss 1.3259\t Accuracy 0.8700\n",
      "\n",
      "Epoch [3][10]\t Batch [0][600]\t Training Loss 1.2764\t Accuracy 0.9000\n",
      "Epoch [3][10]\t Batch [100][600]\t Training Loss 1.3397\t Accuracy 0.8100\n",
      "Epoch [3][10]\t Batch [200][600]\t Training Loss 1.3286\t Accuracy 0.8400\n",
      "Epoch [3][10]\t Batch [300][600]\t Training Loss 1.3472\t Accuracy 0.7900\n",
      "Epoch [3][10]\t Batch [400][600]\t Training Loss 1.3798\t Accuracy 0.8000\n",
      "Epoch [3][10]\t Batch [500][600]\t Training Loss 1.3525\t Accuracy 0.8100\n",
      "\n",
      "Epoch [4][10]\t Batch [0][600]\t Training Loss 1.3328\t Accuracy 0.8500\n",
      "Epoch [4][10]\t Batch [100][600]\t Training Loss 1.3406\t Accuracy 0.8800\n",
      "Epoch [4][10]\t Batch [200][600]\t Training Loss 1.4001\t Accuracy 0.8300\n",
      "Epoch [4][10]\t Batch [300][600]\t Training Loss 1.4253\t Accuracy 0.8400\n",
      "Epoch [4][10]\t Batch [400][600]\t Training Loss 1.3901\t Accuracy 0.8200\n",
      "Epoch [4][10]\t Batch [500][600]\t Training Loss 1.3036\t Accuracy 0.8500\n",
      "\n",
      "Epoch [5][10]\t Batch [0][600]\t Training Loss 1.2629\t Accuracy 0.8500\n",
      "Epoch [5][10]\t Batch [100][600]\t Training Loss 1.3640\t Accuracy 0.8300\n",
      "Epoch [5][10]\t Batch [200][600]\t Training Loss 1.3015\t Accuracy 0.8400\n",
      "Epoch [5][10]\t Batch [300][600]\t Training Loss 1.3512\t Accuracy 0.7900\n",
      "Epoch [5][10]\t Batch [400][600]\t Training Loss 1.3401\t Accuracy 0.8400\n",
      "Epoch [5][10]\t Batch [500][600]\t Training Loss 1.2773\t Accuracy 0.9400\n",
      "\n",
      "Epoch [6][10]\t Batch [0][600]\t Training Loss 1.2871\t Accuracy 0.8600\n",
      "Epoch [6][10]\t Batch [100][600]\t Training Loss 1.4166\t Accuracy 0.8000\n",
      "Epoch [6][10]\t Batch [200][600]\t Training Loss 1.3368\t Accuracy 0.8200\n",
      "Epoch [6][10]\t Batch [300][600]\t Training Loss 1.3565\t Accuracy 0.8400\n",
      "Epoch [6][10]\t Batch [400][600]\t Training Loss 1.4068\t Accuracy 0.8500\n",
      "Epoch [6][10]\t Batch [500][600]\t Training Loss 1.2471\t Accuracy 0.9000\n",
      "\n",
      "Epoch [7][10]\t Batch [0][600]\t Training Loss 1.3609\t Accuracy 0.8100\n",
      "Epoch [7][10]\t Batch [100][600]\t Training Loss 1.3579\t Accuracy 0.8800\n",
      "Epoch [7][10]\t Batch [200][600]\t Training Loss 1.3302\t Accuracy 0.8600\n",
      "Epoch [7][10]\t Batch [300][600]\t Training Loss 1.2684\t Accuracy 0.8700\n",
      "Epoch [7][10]\t Batch [400][600]\t Training Loss 1.3135\t Accuracy 0.8500\n",
      "Epoch [7][10]\t Batch [500][600]\t Training Loss 1.3238\t Accuracy 0.8500\n",
      "\n",
      "Epoch [8][10]\t Batch [0][600]\t Training Loss 1.2849\t Accuracy 0.8700\n",
      "Epoch [8][10]\t Batch [100][600]\t Training Loss 1.3118\t Accuracy 0.8500\n",
      "Epoch [8][10]\t Batch [200][600]\t Training Loss 1.4673\t Accuracy 0.7600\n",
      "Epoch [8][10]\t Batch [300][600]\t Training Loss 1.3489\t Accuracy 0.7900\n",
      "Epoch [8][10]\t Batch [400][600]\t Training Loss 1.3862\t Accuracy 0.8300\n",
      "Epoch [8][10]\t Batch [500][600]\t Training Loss 1.4145\t Accuracy 0.7900\n",
      "\n",
      "Epoch [9][10]\t Batch [0][600]\t Training Loss 1.3550\t Accuracy 0.7900\n",
      "Epoch [9][10]\t Batch [100][600]\t Training Loss 1.4468\t Accuracy 0.8100\n",
      "Epoch [9][10]\t Batch [200][600]\t Training Loss 1.3833\t Accuracy 0.8600\n",
      "Epoch [9][10]\t Batch [300][600]\t Training Loss 1.3669\t Accuracy 0.8300\n",
      "Epoch [9][10]\t Batch [400][600]\t Training Loss 1.2492\t Accuracy 0.8700\n",
      "Epoch [9][10]\t Batch [500][600]\t Training Loss 1.3604\t Accuracy 0.8900\n",
      "\n"
     ]
    }
   ],
   "source": [
    "# Weight Initialization\n",
    "W = np.random.randn(28*28, 10) * 0.001\n",
    "\n",
    "loss_set = []\n",
    "accu_set = []\n",
    "disp_freq = 100\n",
    "\n",
    "# Training process\n",
    "for epoch in range(0, max_epoch):\n",
    "    iter_per_batch = train_size // batch_size\n",
    "    for batch_id in range(0, iter_per_batch):\n",
    "        batch = train_set.next_batch(batch_size) # get data of next batch\n",
    "        input, label = batch\n",
    "        \n",
    "        # softmax_classifier\n",
    "        loss, gradient, prediction = softmax_classifier(W, input , label, lamda)\n",
    "        # Calculate accuracy\n",
    "        label = np.argmax(label, axis=1) # scalar representation\n",
    "        accuracy = sum(prediction == label) / float(len(label))\n",
    "        \n",
    "        loss_set.append(loss)\n",
    "        accu_set.append(accuracy)\n",
    "        \n",
    "        # Update weights\n",
    "        W = W - (learning_rate * gradient)\n",
    "        if batch_id % disp_freq == 0:\n",
    "            print(\"Epoch [{}][{}]\\t Batch [{}][{}]\\t Training Loss {:.4f}\\t Accuracy {:.4f}\".format(\n",
    "                epoch, max_epoch, batch_id, iter_per_batch, \n",
    "                loss, accuracy))\n",
    "    print()"
   ]
  },
  {
   "cell_type": "markdown",
   "metadata": {},
   "source": [
    "## Test"
   ]
  },
  {
   "cell_type": "code",
   "execution_count": 20,
   "metadata": {
    "scrolled": true
   },
   "outputs": [
    {
     "name": "stdout",
     "output_type": "stream",
     "text": [
      "Test Accuracy:  0.8488\n"
     ]
    }
   ],
   "source": [
    "correct = 0\n",
    "iter_per_batch = test_size // batch_size\n",
    "\n",
    "# Test process\n",
    "for batch_id in range(0, iter_per_batch):\n",
    "    batch = test_set.next_batch(batch_size)\n",
    "    data, label = batch\n",
    "    \n",
    "    # We only need prediction results in testing\n",
    "    _,_, prediction = softmax_classifier(W, data , label, lamda)\n",
    "    label = np.argmax(label, axis=1)\n",
    "    \n",
    "    correct += sum(prediction == label)\n",
    "    \n",
    "accuracy = correct * 1.0 / test_size\n",
    "print('Test Accuracy: ', accuracy)"
   ]
  },
  {
   "cell_type": "markdown",
   "metadata": {},
   "source": [
    "## Plot"
   ]
  },
  {
   "cell_type": "code",
   "execution_count": 21,
   "metadata": {
    "scrolled": false
   },
   "outputs": [
    {
     "data": {
      "text/plain": [
       "Text(0,0.5,'accuracy')"
      ]
     },
     "execution_count": 21,
     "metadata": {},
     "output_type": "execute_result"
    },
    {
     "data": {
      "image/png": "[encoded data removed]",
      "text/plain": [
       "<Figure size 432x288 with 1 Axes>"
      ]
     },
     "metadata": {
      "needs_background": "light"
     },
     "output_type": "display_data"
    },
    {
     "data": {
      "image/png": "[encoded data removed]",
      "text/plain": [
       "<Figure size 432x288 with 1 Axes>"
      ]
     },
     "metadata": {
      "needs_background": "light"
     },
     "output_type": "display_data"
    }
   ],
   "source": [
    "# training loss curve\n",
    "plt.figure()\n",
    "plt.plot(loss_set, 'b--')\n",
    "plt.xlabel('iteration')\n",
    "plt.ylabel('loss')\n",
    "# training accuracy curve\n",
    "plt.figure()\n",
    "plt.plot(accu_set, 'r--')\n",
    "plt.xlabel('iteration')\n",
    "plt.ylabel('accuracy')"
   ]
  },
  {
   "cell_type": "markdown",
   "metadata": {},
   "source": [
    "### You have finished homework-1, congratulations!"
   ]
  },
  {
   "cell_type": "code",
   "execution_count": null,
   "metadata": {},
   "outputs": [],
   "source": []
  }
 ],
 "metadata": {
  "kernelspec": {
   "display_name": "Python [default]",
   "language": "python",
   "name": "python3"
  },
  "language_info": {
   "codemirror_mode": {
    "name": "ipython",
    "version": 3
   },
   "file_extension": ".py",
   "mimetype": "text/x-python",
   "name": "python",
   "nbconvert_exporter": "python",
   "pygments_lexer": "ipython3",
   "version": "3.6.6"
  }
 },
 "nbformat": 4,
 "nbformat_minor": 2
}
