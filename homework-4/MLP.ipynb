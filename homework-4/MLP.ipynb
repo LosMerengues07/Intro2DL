{
 "cells": [
  {
   "cell_type": "markdown",
   "metadata": {},
   "source": [
    "# MLP Model"
   ]
  },
  {
   "cell_type": "code",
   "execution_count": 12,
   "metadata": {},
   "outputs": [],
   "source": [
    "import os\n",
    "import numpy as np # linear algebra\n",
    "import pandas as pd # data processing, CSV file I/O (e.g. pd.read_csv)\n",
    "import matplotlib.pyplot as plt\n",
    "import torch\n",
    "from torch import nn,functional\n",
    "import torchvision\n",
    "from torchvision import datasets,transforms\n",
    "device = torch.device(\"cuda:4\" if torch.cuda.is_available else \"cpu\")\n",
    "\n",
    "from sklearn.model_selection import train_test_split\n",
    "\n",
    "%matplotlib inline"
   ]
  },
  {
   "cell_type": "code",
   "execution_count": null,
   "metadata": {},
   "outputs": [],
   "source": []
  },
  {
   "cell_type": "code",
   "execution_count": 14,
   "metadata": {},
   "outputs": [],
   "source": [
    "train_batch_size =100\n",
    "validation_batch_size =100\n",
    "\n",
    "#Loading data\n",
    "train = pd.read_csv(\"./input/train.csv\")\n",
    "X = train.loc[:,train.columns != \"label\"].values/255   #Normalizing the values\n",
    "Y = train.label.values\n",
    "\n",
    "features_train, features_test, targets_train, targets_test = train_test_split(X,Y,test_size=0.2,random_state=42)\n",
    "X_train = torch.from_numpy(features_train).to(device)\n",
    "X_validation = torch.from_numpy(features_test).to(device)\n",
    "\n",
    "Y_train = torch.from_numpy(targets_train).type(torch.LongTensor).to(device)\n",
    "Y_validation = torch.from_numpy(targets_test).type(torch.LongTensor).to(device)\n",
    "\n",
    "train = torch.utils.data.TensorDataset(X_train,Y_train)\n",
    "validation = torch.utils.data.TensorDataset(X_validation,Y_validation)\n",
    "\n",
    "train_loader = torch.utils.data.DataLoader(train, batch_size = train_batch_size, shuffle = False)\n",
    "validation_loader = torch.utils.data.DataLoader(validation, batch_size = validation_batch_size, shuffle = False)\n"
   ]
  },
  {
   "cell_type": "code",
   "execution_count": 15,
   "metadata": {},
   "outputs": [],
   "source": [
    "#define network\n",
    "\n",
    "class MLP(nn.Module):\n",
    "    def __init__(self):\n",
    "        super(MLP,self).__init__()\n",
    "        \n",
    "        self.fc1=nn.Linear(28*28,256)        \n",
    "        self.drop1=nn.Dropout(p=0.3)\n",
    "        self.relu1=nn.ReLU()\n",
    "        \n",
    "        self.fc2=nn.Linear(256,64)\n",
    "        self.drop2=nn.Dropout(p=0.3)\n",
    "        self.relu2=nn.ReLU()\n",
    "        \n",
    "        self.fc3 = nn.Linear(64,10)         \n",
    "        self.softmax = nn.Softmax(dim=1)\n",
    "        \n",
    "    def forward(self,x):\n",
    "        \n",
    "        x = x.view(x.size(0), -1)\n",
    "        \n",
    "        out = self.fc1(x)\n",
    "        out = self.drop1(out)\n",
    "        out = self.relu1(out)\n",
    "        \n",
    "        out = self.fc2(out)\n",
    "        out = self.drop2(out)\n",
    "        out = self.relu2(out)\n",
    "\n",
    "        out = self.fc3(out)        \n",
    "        out = self.softmax(out)\n",
    "        return out\n",
    "        "
   ]
  },
  {
   "cell_type": "code",
   "execution_count": 16,
   "metadata": {},
   "outputs": [],
   "source": [
    "#create network criterion and optimizer\n",
    "model = MLP()\n",
    "model = model.double()\n",
    "model = model.to(device)\n",
    "criterion = nn.CrossEntropyLoss().to(device)\n",
    "optimizer = torch.optim.SGD(model.parameters(),lr=0.1, momentum=0.8)"
   ]
  },
  {
   "cell_type": "code",
   "execution_count": 17,
   "metadata": {},
   "outputs": [
    {
     "name": "stdout",
     "output_type": "stream",
     "text": [
      "Epoch: 1/15..  Training Loss: 1.975..  Validation Loss: 1.714..  Validation Accuracy: 0.753\n",
      "Epoch: 2/15..  Training Loss: 1.725..  Validation Loss: 1.698..  Validation Accuracy: 0.762\n",
      "Epoch: 3/15..  Training Loss: 1.655..  Validation Loss: 1.612..  Validation Accuracy: 0.851\n",
      "Epoch: 4/15..  Training Loss: 1.609..  Validation Loss: 1.548..  Validation Accuracy: 0.919\n",
      "Epoch: 5/15..  Training Loss: 1.555..  Validation Loss: 1.531..  Validation Accuracy: 0.933\n",
      "Epoch: 6/15..  Training Loss: 1.539..  Validation Loss: 1.523..  Validation Accuracy: 0.941\n",
      "Epoch: 7/15..  Training Loss: 1.528..  Validation Loss: 1.516..  Validation Accuracy: 0.948\n",
      "Epoch: 8/15..  Training Loss: 1.521..  Validation Loss: 1.512..  Validation Accuracy: 0.951\n",
      "Epoch: 9/15..  Training Loss: 1.516..  Validation Loss: 1.508..  Validation Accuracy: 0.956\n",
      "Epoch: 10/15..  Training Loss: 1.512..  Validation Loss: 1.507..  Validation Accuracy: 0.956\n",
      "Epoch: 11/15..  Training Loss: 1.508..  Validation Loss: 1.505..  Validation Accuracy: 0.957\n",
      "Epoch: 12/15..  Training Loss: 1.505..  Validation Loss: 1.503..  Validation Accuracy: 0.960\n",
      "Epoch: 13/15..  Training Loss: 1.503..  Validation Loss: 1.502..  Validation Accuracy: 0.961\n",
      "Epoch: 14/15..  Training Loss: 1.500..  Validation Loss: 1.500..  Validation Accuracy: 0.962\n",
      "Epoch: 15/15..  Training Loss: 1.499..  Validation Loss: 1.500..  Validation Accuracy: 0.963\n"
     ]
    }
   ],
   "source": [
    "# strat to train\n",
    "epochs = 15\n",
    "train_losses, validation_losses,validation_accs = [] ,[],[]\n",
    "for epoch in range(epochs):\n",
    "    running_loss = 0\n",
    "    \n",
    "    for images,labels in train_loader:\n",
    "        train=images.view(-1,1,28,28).to(device)\n",
    "        optimizer.zero_grad()\n",
    "        output = model(train)\n",
    "        loss = criterion(output,labels)\n",
    "        loss.backward()\n",
    "        optimizer.step()\n",
    "        \n",
    "        running_loss += loss.item()\n",
    "\n",
    "        #validation\n",
    "    else:\n",
    "        validation_loss = 0\n",
    "        accuracy = 0\n",
    "        \n",
    "        with torch.no_grad(): #Turning off gradients to speed up\n",
    "            model.eval()\n",
    "            for images,labels in validation_loader:\n",
    "                \n",
    "                test = images.view(-1,1,28,28).to(device)\n",
    "                log_ps = model(test)\n",
    "                validation_loss += criterion(log_ps,labels)\n",
    "\n",
    "                top_p, top_class = log_ps.topk(1, dim = 1)\n",
    "                equals = top_class == labels.view(*top_class.shape)\n",
    "                accuracy += torch.mean(equals.type(torch.FloatTensor))\n",
    "        model.train()        \n",
    "        \n",
    "        train_losses.append(running_loss/len(train_loader))\n",
    "        validation_losses.append(validation_loss/len(validation_loader))\n",
    "        validation_accs.append(accuracy/len(validation_loader))\n",
    "        \n",
    "        print(\"Epoch: {}/{}.. \".format(epoch+1, epochs),\n",
    "              \"Training Loss: {:.3f}.. \".format(running_loss/len(train_loader)),\n",
    "              \"Validation Loss: {:.3f}.. \".format(validation_loss/len(validation_loader)),\n",
    "              \"Validation Accuracy: {:.3f}\".format(accuracy/len(validation_loader)))"
   ]
  },
  {
   "cell_type": "code",
   "execution_count": 18,
   "metadata": {},
   "outputs": [
    {
     "data": {
      "text/plain": [
       "<matplotlib.legend.Legend at 0x7f3ff8cc06a0>"
      ]
     },
     "execution_count": 18,
     "metadata": {},
     "output_type": "execute_result"
    },
    {
     "data": {
      "image/png": "[encoded data removed]",
      "text/plain": [
       "<Figure size 432x288 with 1 Axes>"
      ]
     },
     "metadata": {
      "needs_background": "light"
     },
     "output_type": "display_data"
    }
   ],
   "source": [
    "#plot image\n",
    "plt.plot(train_losses, label='Training loss')\n",
    "plt.plot(validation_losses, label='Validation loss')\n",
    "plt.plot(validation_accs,label='Validation Accuracy')\n",
    "plt.legend(frameon=False)"
   ]
  },
  {
   "cell_type": "code",
   "execution_count": 19,
   "metadata": {},
   "outputs": [],
   "source": [
    "# load test data\n",
    "test_images = pd.read_csv(\"./input/test.csv\")\n",
    "test_image = test_images.loc[:,test_images.columns != \"label\"].values/255\n",
    "test_dataset = torch.from_numpy(test_image).to(device)\n",
    "new_test_loader = torch.utils.data.DataLoader(test_dataset, batch_size = 1, shuffle = False)"
   ]
  },
  {
   "cell_type": "code",
   "execution_count": 20,
   "metadata": {},
   "outputs": [],
   "source": [
    "#test\n",
    "top_classes = []\n",
    "with torch.no_grad():\n",
    "    model.eval()\n",
    "    \n",
    "    for images in new_test_loader:\n",
    "        test = images.view(-1,1,28,28).to(device)\n",
    "        output = model(test)\n",
    "        ps = torch.exp(output)\n",
    "        top_p, top_class = ps.topk(1, dim = 1)\n",
    "        top_classes.append(int(top_class))"
   ]
  },
  {
   "cell_type": "code",
   "execution_count": 21,
   "metadata": {},
   "outputs": [],
   "source": [
    "predlabel = top_classes\n",
    "predictions = np.array(predlabel)\n"
   ]
  },
  {
   "cell_type": "code",
   "execution_count": 22,
   "metadata": {},
   "outputs": [],
   "source": [
    "#write out results\n",
    "submissions=pd.DataFrame({\"ImageId\": list(range(1,len(predictions)+1)),\n",
    "                         \"Label\": predictions})\n",
    "submissions.to_csv(\"./output/my_submissions_mlp.csv\", index=False, header=True)"
   ]
  },
  {
   "cell_type": "code",
   "execution_count": null,
   "metadata": {},
   "outputs": [],
   "source": []
  },
  {
   "cell_type": "code",
   "execution_count": null,
   "metadata": {},
   "outputs": [],
   "source": []
  },
  {
   "cell_type": "code",
   "execution_count": null,
   "metadata": {},
   "outputs": [],
   "source": []
  }
 ],
 "metadata": {
  "kernelspec": {
   "display_name": "Python [default]",
   "language": "python",
   "name": "python3"
  },
  "language_info": {
   "codemirror_mode": {
    "name": "ipython",
    "version": 3
   },
   "file_extension": ".py",
   "mimetype": "text/x-python",
   "name": "python",
   "nbconvert_exporter": "python",
   "pygments_lexer": "ipython3",
   "version": "3.6.6"
  }
 },
 "nbformat": 4,
 "nbformat_minor": 2
}
