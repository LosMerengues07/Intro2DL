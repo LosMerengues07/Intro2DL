{
 "cells": [
  {
   "cell_type": "markdown",
   "metadata": {},
   "source": [
    "# MLP Model"
   ]
  },
  {
   "cell_type": "code",
   "execution_count": 63,
   "metadata": {},
   "outputs": [],
   "source": [
    "import os\n",
    "import numpy as np # linear algebra\n",
    "import pandas as pd # data processing, CSV file I/O (e.g. pd.read_csv)\n",
    "import matplotlib.pyplot as plt\n",
    "#os.environ[\"CUDA_VISIBLE_DEVICES\"] = \"1\"\n",
    "import torch\n",
    "from torch import nn,functional\n",
    "import torchvision\n",
    "from torchvision import datasets,transforms\n",
    "device = torch.device(\"cuda:4\" if torch.cuda.is_available else \"cpu\")\n",
    "\n",
    "from sklearn.model_selection import train_test_split\n",
    "\n",
    "%matplotlib inline"
   ]
  },
  {
   "cell_type": "code",
   "execution_count": 64,
   "metadata": {},
   "outputs": [],
   "source": [
    "train_batch_size =100\n",
    "test_batch_size =100"
   ]
  },
  {
   "cell_type": "code",
   "execution_count": 65,
   "metadata": {},
   "outputs": [],
   "source": [
    "\n",
    "#Loading data\n",
    "train = pd.read_csv(\"./input/train.csv\")\n",
    "X = train.loc[:,train.columns != \"label\"].values/255   #Normalizing the values\n",
    "Y = train.label.values\n",
    "\n",
    "features_train, features_test, targets_train, targets_test = train_test_split(X,Y,test_size=0.2,random_state=42)\n",
    "X_train = torch.from_numpy(features_train).to(device)\n",
    "X_test = torch.from_numpy(features_test).to(device)\n",
    "\n",
    "Y_train = torch.from_numpy(targets_train).type(torch.LongTensor).to(device)\n",
    "Y_test = torch.from_numpy(targets_test).type(torch.LongTensor).to(device)\n",
    "\n",
    "train = torch.utils.data.TensorDataset(X_train,Y_train)\n",
    "test = torch.utils.data.TensorDataset(X_test,Y_test)\n",
    "\n",
    "train_loader = torch.utils.data.DataLoader(train, batch_size = train_batch_size, shuffle = False)\n",
    "test_loader = torch.utils.data.DataLoader(test, batch_size = test_batch_size, shuffle = False)\n"
   ]
  },
  {
   "cell_type": "code",
   "execution_count": 66,
   "metadata": {},
   "outputs": [],
   "source": [
    "class MLP(nn.Module):\n",
    "    def __init__(self):\n",
    "        super(MLP,self).__init__()\n",
    "        \n",
    "        self.fc1=nn.Linear(28*28,256)        \n",
    "        self.drop1=nn.Dropout(p=0.3)\n",
    "        self.relu1=nn.ReLU()\n",
    "        \n",
    "        self.fc2=nn.Linear(256,64)\n",
    "        self.drop2=nn.Dropout(p=0.3)\n",
    "        self.relu2=nn.ReLU()\n",
    "        \n",
    "        self.fc3 = nn.Linear(64,10)         \n",
    "        self.softmax = nn.Softmax(dim=1)\n",
    "        \n",
    "    def forward(self,x):\n",
    "        \n",
    "        x = x.view(x.size(0), -1)\n",
    "        \n",
    "        out = self.fc1(x)\n",
    "        out = self.drop1(out)\n",
    "        out = self.relu1(out)\n",
    "        \n",
    "        out = self.fc2(out)\n",
    "        out = self.drop2(out)\n",
    "        out = self.relu2(out)\n",
    "\n",
    "        out = self.fc3(out)        \n",
    "        out = self.softmax(out)\n",
    "        return out\n",
    "        "
   ]
  },
  {
   "cell_type": "code",
   "execution_count": 67,
   "metadata": {},
   "outputs": [],
   "source": [
    "model = MLP()\n",
    "model = model.double()\n",
    "model = model.to(device)\n",
    "criterion = nn.CrossEntropyLoss().to(device)\n",
    "optimizer = torch.optim.SGD(model.parameters(),lr=0.1, momentum=0.8)"
   ]
  },
  {
   "cell_type": "code",
   "execution_count": 68,
   "metadata": {},
   "outputs": [
    {
     "name": "stdout",
     "output_type": "stream",
     "text": [
      "Epoch: 1/15..  Training Loss: 1.976..  Test Loss: 1.674..  Test Accuracy: 0.798\n",
      "Epoch: 2/15..  Training Loss: 1.619..  Test Loss: 1.561..  Test Accuracy: 0.905\n",
      "Epoch: 3/15..  Training Loss: 1.567..  Test Loss: 1.543..  Test Accuracy: 0.920\n",
      "Epoch: 4/15..  Training Loss: 1.548..  Test Loss: 1.530..  Test Accuracy: 0.934\n",
      "Epoch: 5/15..  Training Loss: 1.536..  Test Loss: 1.524..  Test Accuracy: 0.940\n",
      "Epoch: 6/15..  Training Loss: 1.526..  Test Loss: 1.519..  Test Accuracy: 0.944\n",
      "Epoch: 7/15..  Training Loss: 1.522..  Test Loss: 1.513..  Test Accuracy: 0.950\n",
      "Epoch: 8/15..  Training Loss: 1.515..  Test Loss: 1.510..  Test Accuracy: 0.954\n",
      "Epoch: 9/15..  Training Loss: 1.512..  Test Loss: 1.507..  Test Accuracy: 0.956\n",
      "Epoch: 10/15..  Training Loss: 1.508..  Test Loss: 1.504..  Test Accuracy: 0.958\n",
      "Epoch: 11/15..  Training Loss: 1.504..  Test Loss: 1.501..  Test Accuracy: 0.961\n",
      "Epoch: 12/15..  Training Loss: 1.503..  Test Loss: 1.500..  Test Accuracy: 0.961\n",
      "Epoch: 13/15..  Training Loss: 1.501..  Test Loss: 1.497..  Test Accuracy: 0.964\n",
      "Epoch: 14/15..  Training Loss: 1.498..  Test Loss: 1.498..  Test Accuracy: 0.963\n",
      "Epoch: 15/15..  Training Loss: 1.496..  Test Loss: 1.497..  Test Accuracy: 0.965\n"
     ]
    }
   ],
   "source": [
    "epochs = 15\n",
    "train_losses, test_losses = [] ,[]\n",
    "for epoch in range(epochs):\n",
    "    running_loss = 0\n",
    "    \n",
    "    for images,labels in train_loader:\n",
    "        #train = Variable(images.view(-1,1,28,28))\n",
    "        train=images.view(-1,1,28,28)\n",
    "        #labels = Variable(labels)\n",
    "        \n",
    "        optimizer.zero_grad()\n",
    "        \n",
    "        output = model(train)\n",
    "        loss = criterion(output,labels)\n",
    "        loss.backward()\n",
    "        optimizer.step()\n",
    "        \n",
    "        running_loss += loss.item()\n",
    "    else:\n",
    "        test_loss = 0\n",
    "        accuracy = 0\n",
    "        \n",
    "        with torch.no_grad(): #Turning off gradients to speed up\n",
    "            model.eval()\n",
    "            for images,labels in test_loader:\n",
    "                \n",
    "                test=images.view(-1,1,28,28)\n",
    "        \n",
    "                log_ps = model(test)\n",
    "                test_loss += criterion(log_ps,labels)\n",
    "                \n",
    "                ps = torch.exp(log_ps)\n",
    "                top_p, top_class = ps.topk(1, dim = 1)\n",
    "                equals = top_class == labels.view(*top_class.shape)\n",
    "                accuracy += torch.mean(equals.type(torch.FloatTensor))\n",
    "        model.train()        \n",
    "        \n",
    "        train_losses.append(running_loss/len(train_loader))\n",
    "        test_losses.append(test_loss/len(test_loader))\n",
    "\n",
    "        print(\"Epoch: {}/{}.. \".format(epoch+1, epochs),\n",
    "              \"Training Loss: {:.3f}.. \".format(running_loss/len(train_loader)),\n",
    "              \"Test Loss: {:.3f}.. \".format(test_loss/len(test_loader)),\n",
    "              \"Test Accuracy: {:.3f}\".format(accuracy/len(test_loader)))"
   ]
  },
  {
   "cell_type": "code",
   "execution_count": 69,
   "metadata": {},
   "outputs": [
    {
     "data": {
      "text/plain": [
       "<matplotlib.legend.Legend at 0x7faf0fd0a668>"
      ]
     },
     "execution_count": 69,
     "metadata": {},
     "output_type": "execute_result"
    },
    {
     "data": {
      "image/png": "[encoded data removed]",
      "text/plain": [
       "<Figure size 432x288 with 1 Axes>"
      ]
     },
     "metadata": {
      "needs_background": "light"
     },
     "output_type": "display_data"
    }
   ],
   "source": [
    "plt.plot(train_losses, label='Training loss')\n",
    "plt.plot(test_losses, label='Validation loss')\n",
    "#plt.plot(accuracy, label='Validation accu')\n",
    "\n",
    "plt.legend(frameon=False)"
   ]
  },
  {
   "cell_type": "code",
   "execution_count": 70,
   "metadata": {},
   "outputs": [],
   "source": [
    "test_images = pd.read_csv(\"./input/test.csv\")\n",
    "test_image = test_images.loc[:,test_images.columns != \"label\"].values/255\n",
    "test_dataset = torch.from_numpy(test_image).to(device)\n",
    "new_test_loader = torch.utils.data.DataLoader(test_dataset, batch_size = 1, shuffle = False)"
   ]
  },
  {
   "cell_type": "code",
   "execution_count": 71,
   "metadata": {},
   "outputs": [],
   "source": [
    "top_classes = []\n",
    "with torch.no_grad():\n",
    "    model.eval()\n",
    "    \n",
    "    for images in new_test_loader:\n",
    "        test = images.view(-1,1,28,28).to(device)\n",
    "        output = model(test)\n",
    "        ps = torch.exp(output)\n",
    "        top_p, top_class = ps.topk(1, dim = 1)\n",
    "        top_classes.append(int(top_class))"
   ]
  },
  {
   "cell_type": "code",
   "execution_count": 72,
   "metadata": {},
   "outputs": [],
   "source": [
    "predlabel = top_classes\n",
    "predictions = np.array(predlabel)\n"
   ]
  },
  {
   "cell_type": "code",
   "execution_count": 73,
   "metadata": {},
   "outputs": [],
   "source": [
    "submissions=pd.DataFrame({\"ImageId\": list(range(1,len(predictions)+1)),\n",
    "                         \"Label\": predictions})\n",
    "submissions.to_csv(\"./output/my_submissions_mlp.csv\", index=False, header=True)"
   ]
  },
  {
   "cell_type": "code",
   "execution_count": null,
   "metadata": {},
   "outputs": [],
   "source": []
  }
 ],
 "metadata": {
  "kernelspec": {
   "display_name": "Python 3",
   "language": "python",
   "name": "python3"
  },
  "language_info": {
   "codemirror_mode": {
    "name": "ipython",
    "version": 3
   },
   "file_extension": ".py",
   "mimetype": "text/x-python",
   "name": "python",
   "nbconvert_exporter": "python",
   "pygments_lexer": "ipython3",
   "version": "3.6.6"
  }
 },
 "nbformat": 4,
 "nbformat_minor": 2
}
